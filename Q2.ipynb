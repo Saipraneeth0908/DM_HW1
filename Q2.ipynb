{
 "cells": [
  {
   "cell_type": "code",
   "execution_count": 9,
   "metadata": {},
   "outputs": [],
   "source": [
    "def question2_1():\n",
    "    answer = ['Discrete', 'None (Quantitative)']\n",
    "    return answer\n",
    "\n",
    "def question2_2():\n",
    "    answer = ['Continuous', 'None (Quantitative)']\n",
    "    return answer\n",
    "\n",
    "def question2_3():\n",
    "    answer = ['Continuous', 'None (Quantitative)']\n",
    "    return answer \n",
    "\n",
    "def question2_4():\n",
    "    answer = ['Discrete', 'Ordinal (Quantitative)']\n",
    "    return answer\n",
    "\n",
    "def question2_5():\n",
    "    answer = ['Binary', 'Nominal']\n",
    "    return answer\n"
   ]
  }
 ],
 "metadata": {
  "kernelspec": {
   "display_name": "Python 3",
   "language": "python",
   "name": "python3"
  },
  "language_info": {
   "codemirror_mode": {
    "name": "ipython",
    "version": 3
   },
   "file_extension": ".py",
   "mimetype": "text/x-python",
   "name": "python",
   "nbconvert_exporter": "python",
   "pygments_lexer": "ipython3",
   "version": "3.12.0"
  }
 },
 "nbformat": 4,
 "nbformat_minor": 2
}
